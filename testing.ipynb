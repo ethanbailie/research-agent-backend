{
 "cells": [
  {
   "cell_type": "code",
   "execution_count": null,
   "metadata": {},
   "outputs": [],
   "source": [
    "# %pip install langgraph\n",
    "# %pip install langchain\n",
    "# %pip install langchain-openai\n",
    "# %pip install langchain-cohere\n",
    "# %pip install pinecone-client\n",
    "# %pip install langchain-pinecone\n",
    "# %pip install python-dotenv\n",
    "# %pip install pandas \n",
    "# %pip install langchain_core\n",
    "# %pip install langgraph-checkpoint-sqlite\n",
    "# %pip install sqlalchemy"
   ]
  },
  {
   "cell_type": "code",
   "execution_count": null,
   "metadata": {},
   "outputs": [],
   "source": [
    "from langgraph.graph import StateGraph, END\n",
    "from langchain_core.messages import AnyMessage, SystemMessage, HumanMessage, ToolMessage\n",
    "from langchain_core.tools import tool\n",
    "from langchain_cohere import ChatCohere\n",
    "from langchain_openai import ChatOpenAI\n",
    "from langchain_openai import OpenAIEmbeddings\n",
    "from langchain_community.tools.tavily_search import TavilySearchResults\n",
    "from langgraph.checkpoint.sqlite import SqliteSaver\n",
    "from typing import TypedDict, Annotated\n",
    "from dotenv import load_dotenv\n",
    "from pinecone import Pinecone\n",
    "import operator\n",
    "import pandas as pd\n",
    "import numpy as np\n",
    "import os\n",
    "\n",
    "import uuid\n",
    "from contextlib import ExitStack"
   ]
  },
  {
   "cell_type": "code",
   "execution_count": null,
   "metadata": {},
   "outputs": [],
   "source": [
    "## create an agent with these goals:\n",
    "## 1. ingest user's idea\n",
    "## 2. search the web for information on the largest companies in the space of their idea\n",
    "## 3. return the top companies\n",
    "## 4. \n",
    "\n",
    "load_dotenv()\n",
    "\n",
    "# model = ChatCohere(model=\"command-r-plus\")\n",
    "model = ChatCohere(model=\"command-r-plus\")\n",
    "\n",
    "search_tool = TavilySearchResults(max_results=4) \n",
    "\n",
    "stack = ExitStack()\n",
    "memory = stack.enter_context(SqliteSaver.from_conn_string(\":memory:\"))"
   ]
  }
 ],
 "metadata": {
  "kernelspec": {
   "display_name": ".venv",
   "language": "python",
   "name": "python3"
  },
  "language_info": {
   "codemirror_mode": {
    "name": "ipython",
    "version": 3
   },
   "file_extension": ".py",
   "mimetype": "text/x-python",
   "name": "python",
   "nbconvert_exporter": "python",
   "pygments_lexer": "ipython3",
   "version": "3.12.4"
  }
 },
 "nbformat": 4,
 "nbformat_minor": 2
}
